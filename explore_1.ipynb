{
 "cells": [
  {
   "cell_type": "code",
   "execution_count": 1,
   "id": "61d6c158-5f57-42b0-96da-ce6c0aa1768e",
   "metadata": {},
   "outputs": [],
   "source": [
    "from PIL import Image\n",
    "import numpy as np"
   ]
  },
  {
   "cell_type": "code",
   "execution_count": 2,
   "id": "ac1f0b18-e264-4e66-ba8c-fe02491688c7",
   "metadata": {},
   "outputs": [],
   "source": [
    "img = Image.open('picasso1.png')"
   ]
  },
  {
   "cell_type": "code",
   "execution_count": 3,
   "id": "8c8b2c6e-1a70-4ed0-a870-f338d1103682",
   "metadata": {},
   "outputs": [],
   "source": [
    "idata = np.asarray(img)\n",
    "idata_ = np.mean(idata, axis=2) # simple arithmetic mean, as done by the paper\n",
    "idata = np.uint32(idata_)\n",
    "img2 = Image.fromarray(idata)"
   ]
  },
  {
   "cell_type": "code",
   "execution_count": 4,
   "id": "64a22a86-7ebf-4809-8c42-38a6376bd7f2",
   "metadata": {},
   "outputs": [],
   "source": [
    "COLMAX, ROWMAX = img2.size # Get image size (width, height) i.e. column followed by row"
   ]
  },
  {
   "cell_type": "code",
   "execution_count": 5,
   "id": "fe06763c-ad16-4a33-8351-de1594d45148",
   "metadata": {},
   "outputs": [],
   "source": [
    "argsort_results = np.uint32(np.zeros([(ROWMAX-1)*(COLMAX-1), 4]))"
   ]
  },
  {
   "cell_type": "code",
   "execution_count": 6,
   "id": "8df3f8c6-72fa-4946-968a-61a1f0874158",
   "metadata": {},
   "outputs": [],
   "source": [
    "acounter = 0\n",
    "for i in np.arange(0, ROWMAX-1, 1):\n",
    "    for j in np.arange(0, COLMAX-1, 1):\n",
    "        window1 = idata[i:i+2, j:j+2]  # plus 2 makes it actually 2x2 otherwise it's 1x1\n",
    "        wflat = window1.flatten()\n",
    "        argsort1 = np.uint32(np.argsort(wflat, kind='stable')) # in case of tie, preserve original order. mentioned in paper.\n",
    "        argsort_results[acounter] = argsort1\n",
    "        acounter = acounter+1"
   ]
  },
  {
   "cell_type": "code",
   "execution_count": 7,
   "id": "864bffe7-ed4c-41ea-a9a3-334ec28ac247",
   "metadata": {},
   "outputs": [],
   "source": [
    "elements, counts = np.unique(argsort_results, axis=0, return_counts=True)"
   ]
  },
  {
   "cell_type": "code",
   "execution_count": 8,
   "id": "1b1ce3ae-993a-4cd9-92df-9ffb61da6399",
   "metadata": {},
   "outputs": [
    {
     "data": {
      "text/plain": [
       "(24, 4)"
      ]
     },
     "execution_count": 8,
     "metadata": {},
     "output_type": "execute_result"
    }
   ],
   "source": [
    "elements.shape"
   ]
  },
  {
   "cell_type": "code",
   "execution_count": 9,
   "id": "0c81e2ad-5bee-4243-a831-dbd4c6275eea",
   "metadata": {},
   "outputs": [
    {
     "data": {
      "text/plain": [
       "array([188763,  29162,  74079,  30276,   3796,    716,  28577,  35349,\n",
       "         3693,  18970,  67065,  12115,  29804,  36216,    699,   2444,\n",
       "        59582,  11114,  18656,   2424,  11835,  36678,  10769,  19015])"
      ]
     },
     "execution_count": 9,
     "metadata": {},
     "output_type": "execute_result"
    }
   ],
   "source": [
    "counts"
   ]
  },
  {
   "cell_type": "code",
   "execution_count": null,
   "id": "71d431c1-d013-4c44-a51c-c50b883279ee",
   "metadata": {},
   "outputs": [],
   "source": []
  }
 ],
 "metadata": {
  "kernelspec": {
   "display_name": "Python 3",
   "language": "python",
   "name": "python3"
  },
  "language_info": {
   "codemirror_mode": {
    "name": "ipython",
    "version": 3
   },
   "file_extension": ".py",
   "mimetype": "text/x-python",
   "name": "python",
   "nbconvert_exporter": "python",
   "pygments_lexer": "ipython3",
   "version": "3.8.10"
  }
 },
 "nbformat": 4,
 "nbformat_minor": 5
}
