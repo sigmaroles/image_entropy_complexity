{
 "cells": [
  {
   "cell_type": "code",
   "execution_count": 9,
   "id": "61d6c158-5f57-42b0-96da-ce6c0aa1768e",
   "metadata": {},
   "outputs": [],
   "source": [
    "from PIL import Image\n",
    "import numpy as np"
   ]
  },
  {
   "cell_type": "code",
   "execution_count": 12,
   "id": "ac1f0b18-e264-4e66-ba8c-fe02491688c7",
   "metadata": {},
   "outputs": [],
   "source": [
    "img = Image.open('picasso1.png')"
   ]
  },
  {
   "cell_type": "code",
   "execution_count": 13,
   "id": "1db55ed2-4540-4ad5-b551-e65b9126a6a8",
   "metadata": {},
   "outputs": [
    {
     "data": {
      "text/plain": [
       "(782, 938)"
      ]
     },
     "execution_count": 13,
     "metadata": {},
     "output_type": "execute_result"
    }
   ],
   "source": [
    "img.size"
   ]
  },
  {
   "cell_type": "code",
   "execution_count": 14,
   "id": "8c8b2c6e-1a70-4ed0-a870-f338d1103682",
   "metadata": {},
   "outputs": [],
   "source": [
    "idata = np.asarray(img)"
   ]
  },
  {
   "cell_type": "code",
   "execution_count": 15,
   "id": "9b32edfd-dad6-489b-92e3-aae3f7b17a8d",
   "metadata": {},
   "outputs": [
    {
     "data": {
      "text/plain": [
       "(938, 782, 4)"
      ]
     },
     "execution_count": 15,
     "metadata": {},
     "output_type": "execute_result"
    }
   ],
   "source": [
    "idata.shape"
   ]
  },
  {
   "cell_type": "code",
   "execution_count": null,
   "id": "0ddd29ab-4d9f-4636-9272-a3d0b50f7fe0",
   "metadata": {},
   "outputs": [],
   "source": []
  }
 ],
 "metadata": {
  "kernelspec": {
   "display_name": "Python 3",
   "language": "python",
   "name": "python3"
  },
  "language_info": {
   "codemirror_mode": {
    "name": "ipython",
    "version": 3
   },
   "file_extension": ".py",
   "mimetype": "text/x-python",
   "name": "python",
   "nbconvert_exporter": "python",
   "pygments_lexer": "ipython3",
   "version": "3.8.10"
  }
 },
 "nbformat": 4,
 "nbformat_minor": 5
}
