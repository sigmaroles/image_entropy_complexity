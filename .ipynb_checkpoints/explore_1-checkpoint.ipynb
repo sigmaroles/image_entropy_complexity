{
 "cells": [
  {
   "cell_type": "code",
   "execution_count": 1,
   "id": "61d6c158-5f57-42b0-96da-ce6c0aa1768e",
   "metadata": {},
   "outputs": [],
   "source": [
    "from PIL import Image\n",
    "import numpy as np"
   ]
  },
  {
   "cell_type": "code",
   "execution_count": 2,
   "id": "ac1f0b18-e264-4e66-ba8c-fe02491688c7",
   "metadata": {},
   "outputs": [],
   "source": [
    "img = Image.open('picasso1.png')"
   ]
  },
  {
   "cell_type": "code",
   "execution_count": 3,
   "id": "8c8b2c6e-1a70-4ed0-a870-f338d1103682",
   "metadata": {},
   "outputs": [],
   "source": [
    "idata = np.asarray(img)\n",
    "idata_ = np.mean(idata, axis=2) # simple arithmetic mean, as done by the paper\n",
    "idata = np.uint8(idata_)\n",
    "img2 = Image.fromarray(idata)"
   ]
  },
  {
   "cell_type": "code",
   "execution_count": 4,
   "id": "64a22a86-7ebf-4809-8c42-38a6376bd7f2",
   "metadata": {},
   "outputs": [],
   "source": [
    "ROWMAX, COLMAX = img2.size\n",
    "ind_row = np.arange(0, ROWMAX, 1)\n",
    "ind_col = np.arange(0, COLMAX, 1)"
   ]
  },
  {
   "cell_type": "code",
   "execution_count": 5,
   "id": "8df3f8c6-72fa-4946-968a-61a1f0874158",
   "metadata": {},
   "outputs": [
    {
     "name": "stdout",
     "output_type": "stream",
     "text": [
      "[[214 213]\n",
      " [216 217]]\n",
      "[[213 211]\n",
      " [217 215]]\n",
      "====\n",
      "[[216 217]\n",
      " [194 203]]\n",
      "[[217 215]\n",
      " [203 211]]\n",
      "====\n",
      "[[194 203]\n",
      " [167 179]]\n",
      "[[203 211]\n",
      " [179 194]]\n",
      "====\n",
      "[[167 179]\n",
      " [155 165]]\n",
      "[[179 194]\n",
      " [165 180]]\n",
      "====\n"
     ]
    }
   ],
   "source": [
    "for i in ind_row[21:25]:\n",
    "    for j in ind_col[45:47]:\n",
    "        matrix = idata[i:i+2, j:j+2]  # plus 2 makes it actually 2x2 otherwise it's 1x1\n",
    "        print (matrix)\n",
    "        #print (matrix.shape)\n",
    "    print (\"====\")"
   ]
  },
  {
   "cell_type": "code",
   "execution_count": null,
   "id": "9ffb0857-88cc-4c6a-8554-4fed63324343",
   "metadata": {},
   "outputs": [],
   "source": []
  }
 ],
 "metadata": {
  "kernelspec": {
   "display_name": "Python 3",
   "language": "python",
   "name": "python3"
  },
  "language_info": {
   "codemirror_mode": {
    "name": "ipython",
    "version": 3
   },
   "file_extension": ".py",
   "mimetype": "text/x-python",
   "name": "python",
   "nbconvert_exporter": "python",
   "pygments_lexer": "ipython3",
   "version": "3.8.10"
  }
 },
 "nbformat": 4,
 "nbformat_minor": 5
}
