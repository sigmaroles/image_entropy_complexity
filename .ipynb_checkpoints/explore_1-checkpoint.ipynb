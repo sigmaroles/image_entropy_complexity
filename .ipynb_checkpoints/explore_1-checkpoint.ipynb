{
 "cells": [
  {
   "cell_type": "code",
   "execution_count": 1,
   "id": "61d6c158-5f57-42b0-96da-ce6c0aa1768e",
   "metadata": {},
   "outputs": [],
   "source": [
    "from PIL import Image\n",
    "import numpy as np\n",
    "import scipy.stats as stats"
   ]
  },
  {
   "cell_type": "code",
   "execution_count": 11,
   "id": "ac1f0b18-e264-4e66-ba8c-fe02491688c7",
   "metadata": {},
   "outputs": [],
   "source": [
    "img = Image.open('monalisa.jpg')"
   ]
  },
  {
   "cell_type": "code",
   "execution_count": 12,
   "id": "8c8b2c6e-1a70-4ed0-a870-f338d1103682",
   "metadata": {},
   "outputs": [],
   "source": [
    "idata = np.asarray(img)\n",
    "idata_ = np.mean(idata, axis=2) # simple arithmetic mean, as done by the paper\n",
    "idata = np.uint32(idata_)\n",
    "img2 = Image.fromarray(idata)"
   ]
  },
  {
   "cell_type": "code",
   "execution_count": 13,
   "id": "64a22a86-7ebf-4809-8c42-38a6376bd7f2",
   "metadata": {},
   "outputs": [],
   "source": [
    "COLMAX, ROWMAX = img2.size # Get image size (width, height) i.e. column followed by row"
   ]
  },
  {
   "cell_type": "code",
   "execution_count": 14,
   "id": "fe06763c-ad16-4a33-8351-de1594d45148",
   "metadata": {},
   "outputs": [],
   "source": [
    "argsort_results = np.uint32(np.zeros([(ROWMAX-1)*(COLMAX-1), 4]))"
   ]
  },
  {
   "cell_type": "code",
   "execution_count": 15,
   "id": "8df3f8c6-72fa-4946-968a-61a1f0874158",
   "metadata": {},
   "outputs": [],
   "source": [
    "acounter = 0\n",
    "for i in np.arange(0, ROWMAX-1, 1):\n",
    "    for j in np.arange(0, COLMAX-1, 1):\n",
    "        window1 = idata[i:i+2, j:j+2]  # plus 2 makes it actually 2x2 otherwise it's 1x1\n",
    "        wflat = window1.flatten()\n",
    "        argsort1 = np.uint32(np.argsort(wflat, kind='stable')) # in case of tie, preserve original order. mentioned in paper.\n",
    "        argsort_results[acounter] = argsort1\n",
    "        acounter = acounter+1"
   ]
  },
  {
   "cell_type": "code",
   "execution_count": 16,
   "id": "864bffe7-ed4c-41ea-a9a3-334ec28ac247",
   "metadata": {},
   "outputs": [],
   "source": [
    "elements, counts = np.unique(argsort_results, axis=0, return_counts=True)"
   ]
  },
  {
   "cell_type": "code",
   "execution_count": 17,
   "id": "0c81e2ad-5bee-4243-a831-dbd4c6275eea",
   "metadata": {},
   "outputs": [
    {
     "data": {
      "text/plain": [
       "array([54362, 38830, 58083, 49613, 27027, 25606, 38134, 42388, 27167,\n",
       "       30516, 56189, 45237, 48913, 50383, 25381, 25366, 45545, 34944,\n",
       "       30166, 25465, 44708, 53688, 34432, 39466])"
      ]
     },
     "execution_count": 17,
     "metadata": {},
     "output_type": "execute_result"
    }
   ],
   "source": [
    "counts"
   ]
  },
  {
   "cell_type": "code",
   "execution_count": 18,
   "id": "71d431c1-d013-4c44-a51c-c50b883279ee",
   "metadata": {},
   "outputs": [],
   "source": [
    "n = argsort_results.shape[0]\n",
    "p = counts / n  # probability distribution\n",
    "h = stats.entropy(p) / np.log(n) # normalized shannon entropy... equation 1"
   ]
  },
  {
   "cell_type": "code",
   "execution_count": 19,
   "id": "a9821c78-7c54-41b2-8600-3c7a4d736364",
   "metadata": {},
   "outputs": [
    {
     "data": {
      "text/plain": [
       "0.22816389151987104"
      ]
     },
     "execution_count": 19,
     "metadata": {},
     "output_type": "execute_result"
    }
   ],
   "source": [
    "h"
   ]
  },
  {
   "cell_type": "code",
   "execution_count": null,
   "id": "8a730572-4756-4274-931a-25601d0d2439",
   "metadata": {},
   "outputs": [],
   "source": []
  }
 ],
 "metadata": {
  "kernelspec": {
   "display_name": "Python 3",
   "language": "python",
   "name": "python3"
  },
  "language_info": {
   "codemirror_mode": {
    "name": "ipython",
    "version": 3
   },
   "file_extension": ".py",
   "mimetype": "text/x-python",
   "name": "python",
   "nbconvert_exporter": "python",
   "pygments_lexer": "ipython3",
   "version": "3.8.10"
  }
 },
 "nbformat": 4,
 "nbformat_minor": 5
}
