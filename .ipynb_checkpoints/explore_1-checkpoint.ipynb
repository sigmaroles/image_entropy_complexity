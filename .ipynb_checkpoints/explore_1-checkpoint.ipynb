{
 "cells": [
  {
   "cell_type": "code",
   "execution_count": 1,
   "id": "61d6c158-5f57-42b0-96da-ce6c0aa1768e",
   "metadata": {},
   "outputs": [],
   "source": [
    "from PIL import Image\n",
    "import numpy as np\n",
    "import scipy.stats as stats\n",
    "import os\n",
    "import pandas as pd\n",
    "import matplotlib.pyplot as plt\n",
    "import scipy.stats as stats"
   ]
  },
  {
   "cell_type": "code",
   "execution_count": 2,
   "id": "ac1f0b18-e264-4e66-ba8c-fe02491688c7",
   "metadata": {},
   "outputs": [
    {
     "name": "stdout",
     "output_type": "stream",
     "text": [
      "40 files found in ./pics_/\n"
     ]
    }
   ],
   "source": [
    "basedir = \"./pics_/\"\n",
    "filelist = os.listdir(basedir)\n",
    "filelist.sort()\n",
    "print (f\"{len(filelist)} files found in {basedir}\")\n",
    "\n",
    "csvfname = \"outputs_curr.csv\"\n",
    "dx = 2\n",
    "dy = 2\n",
    "n = np.math.factorial(dx*dy)"
   ]
  },
  {
   "cell_type": "code",
   "execution_count": 3,
   "id": "c07a104d-26a9-4601-aaa2-758519f7dd40",
   "metadata": {},
   "outputs": [],
   "source": [
    "def nse(p,n):  # normalized shannon entropy\n",
    "    #return (stats.entropy(p) / np.log(n)\n",
    "    s1 = 0\n",
    "    for prob1 in p:\n",
    "        s1 = s1 + prob1*np.log(1/prob1)\n",
    "    return s1 / np.log(n)   \n",
    "    # this is equivalent to : \n",
    "    # stats.entropy(p) / np.log(n)\n",
    "\n",
    "def D(p, u): # equation 3\n",
    "    n = p.shape[0]\n",
    "    S = stats.entropy\n",
    "    return S((p+u)/2) - S(p)/2 - S(u)/2"
   ]
  },
  {
   "cell_type": "markdown",
   "id": "943505ae",
   "metadata": {},
   "source": [
    "- **Normalized Permutation Entropy (H)** quantifies the degree of disorder in the pixel arrangement of an image: Values close to 1 indicate that pixels appear at random, while values close to zero indicate that pixels appear almost always in the same order.\n",
    "- **Statistical complexity (C)** measures the “structural” complexity present in an image: It is zero for both extremes of order and disorder in the pixel arrangement, and it is positive when an image presents more-complex spatial patterns.\n"
   ]
  },
  {
   "cell_type": "code",
   "execution_count": 4,
   "id": "8c8b2c6e-1a70-4ed0-a870-f338d1103682",
   "metadata": {},
   "outputs": [
    {
     "name": "stdout",
     "output_type": "stream",
     "text": [
      "n=24\n",
      "./pics_/UL (1).png done\n",
      "n=24\n",
      "./pics_/UL (10).png done\n",
      "n=24\n",
      "./pics_/UL (11).png done\n",
      "n=24\n",
      "./pics_/UL (12).png done\n",
      "n=24\n",
      "./pics_/UL (13).png done\n",
      "n=24\n",
      "./pics_/UL (14).png done\n",
      "n=24\n",
      "./pics_/UL (15).png done\n",
      "n=24\n",
      "./pics_/UL (16).png done\n",
      "n=24\n",
      "./pics_/UL (17).png done\n",
      "n=24\n",
      "./pics_/UL (18).png done\n",
      "n=24\n",
      "./pics_/UL (19).png done\n",
      "n=24\n",
      "./pics_/UL (2).png done\n",
      "n=24\n",
      "./pics_/UL (20).png done\n",
      "n=24\n",
      "./pics_/UL (21).png done\n",
      "n=24\n",
      "./pics_/UL (22).png done\n",
      "n=24\n",
      "./pics_/UL (23).png done\n",
      "n=24\n",
      "./pics_/UL (24).png done\n",
      "n=24\n",
      "./pics_/UL (25).png done\n",
      "n=24\n",
      "./pics_/UL (26).png done\n",
      "n=24\n",
      "./pics_/UL (27).png done\n",
      "n=24\n",
      "./pics_/UL (28).png done\n",
      "n=24\n",
      "./pics_/UL (29).png done\n",
      "n=24\n",
      "./pics_/UL (3).png done\n",
      "n=24\n",
      "./pics_/UL (30).png done\n",
      "n=24\n",
      "./pics_/UL (31).png done\n",
      "n=24\n",
      "./pics_/UL (32).png done\n",
      "n=24\n",
      "./pics_/UL (33).png done\n",
      "n=24\n",
      "./pics_/UL (34).png done\n",
      "n=24\n",
      "./pics_/UL (35).png done\n",
      "n=24\n",
      "./pics_/UL (36).png done\n",
      "n=24\n",
      "./pics_/UL (37).png done\n",
      "n=24\n",
      "./pics_/UL (38).png done\n",
      "n=24\n",
      "./pics_/UL (39).png done\n",
      "n=24\n",
      "./pics_/UL (4).png done\n",
      "n=24\n",
      "./pics_/UL (40).png done\n",
      "n=24\n",
      "./pics_/UL (5).png done\n",
      "n=24\n",
      "./pics_/UL (6).png done\n",
      "n=24\n",
      "./pics_/UL (7).png done\n",
      "n=24\n",
      "./pics_/UL (8).png done\n",
      "n=24\n",
      "./pics_/UL (9).png done\n"
     ]
    }
   ],
   "source": [
    "with open(csvfname, \"w\") as ofh:\n",
    "    s1 = \"filename,complexity,entropy\"\n",
    "    #print (s1)\n",
    "    ofh.write(s1+\"\\n\")\n",
    "    for fnn in filelist:\n",
    "        # data preparation etc.\n",
    "        filename = basedir+fnn\n",
    "        img = Image.open(filename)\n",
    "        idata = np.asarray(img)\n",
    "        idata = np.uint32(np.mean(idata, axis=2)) # arithmetic mean, as done by the paper\n",
    "        #img2 = Image.fromarray(idata)    \n",
    "        COLMAX, ROWMAX = img.size # Get image size (width, height) i.e. column followed by row\n",
    "\n",
    "        # ==== algorithm begins ====\n",
    "\n",
    "        argsort_results = np.uint32(np.zeros([(ROWMAX-1)*(COLMAX-1), 4]))\n",
    "        acounter = 0\n",
    "        for i in np.arange(0, ROWMAX-1, 1):\n",
    "            for j in np.arange(0, COLMAX-1, 1):\n",
    "                wflat = idata[i:i+dx, j:j+dy].flatten()  # find the \"ordinal pattern\" (1-dimensional)\n",
    "                argsort1 = np.uint32(np.argsort(wflat, kind='stable')) # in case of tie, preserve original order\n",
    "                argsort_results[acounter] = argsort1 # save the sort results for this iteration\n",
    "                acounter = acounter+1\n",
    "        elements, counts = np.unique(argsort_results, axis=0, return_counts=True)\n",
    "        p = counts / argsort_results.shape[0]  # probability distribution, divide counts by total\n",
    "        h = nse(p,n) # normalized shannon entropy... equation 1\n",
    "        \n",
    "        # complexity calculation begins here\n",
    "        Dstar = -0.5 * ( (n+1)/n*np.log(n+1) + np.log(n) - 2*np.log(2*n) ) # equation 4\n",
    "        u = np.array([1/n]*elements.shape[0]) # uniform distribution\n",
    "        C = (D(p,u) * h) / Dstar # Equation 2\n",
    "\n",
    "        # ==== algoithm ends ====\n",
    "        s2 = f\"{fnn},{C:.10f},{h:.10f}\"\n",
    "        ofh.write(s2+\"\\n\")\n",
    "        print (f\"{filename} done\")"
   ]
  },
  {
   "cell_type": "code",
   "execution_count": 6,
   "id": "fb6f99e3-124a-4b5e-b025-8172ff1e8469",
   "metadata": {},
   "outputs": [
    {
     "data": {
      "text/html": [
       "<div>\n",
       "<style scoped>\n",
       "    .dataframe tbody tr th:only-of-type {\n",
       "        vertical-align: middle;\n",
       "    }\n",
       "\n",
       "    .dataframe tbody tr th {\n",
       "        vertical-align: top;\n",
       "    }\n",
       "\n",
       "    .dataframe thead th {\n",
       "        text-align: right;\n",
       "    }\n",
       "</style>\n",
       "<table border=\"1\" class=\"dataframe\">\n",
       "  <thead>\n",
       "    <tr style=\"text-align: right;\">\n",
       "      <th></th>\n",
       "      <th>filename</th>\n",
       "      <th>complexity</th>\n",
       "      <th>entropy</th>\n",
       "    </tr>\n",
       "  </thead>\n",
       "  <tbody>\n",
       "    <tr>\n",
       "      <th>0</th>\n",
       "      <td>UL (1).png</td>\n",
       "      <td>0.233501</td>\n",
       "      <td>0.610146</td>\n",
       "    </tr>\n",
       "    <tr>\n",
       "      <th>1</th>\n",
       "      <td>UL (10).png</td>\n",
       "      <td>0.215779</td>\n",
       "      <td>0.604255</td>\n",
       "    </tr>\n",
       "    <tr>\n",
       "      <th>2</th>\n",
       "      <td>UL (11).png</td>\n",
       "      <td>0.207864</td>\n",
       "      <td>0.639905</td>\n",
       "    </tr>\n",
       "    <tr>\n",
       "      <th>3</th>\n",
       "      <td>UL (12).png</td>\n",
       "      <td>0.180320</td>\n",
       "      <td>0.710309</td>\n",
       "    </tr>\n",
       "    <tr>\n",
       "      <th>4</th>\n",
       "      <td>UL (13).png</td>\n",
       "      <td>0.226379</td>\n",
       "      <td>0.617571</td>\n",
       "    </tr>\n",
       "  </tbody>\n",
       "</table>\n",
       "</div>"
      ],
      "text/plain": [
       "      filename  complexity   entropy\n",
       "0   UL (1).png    0.233501  0.610146\n",
       "1  UL (10).png    0.215779  0.604255\n",
       "2  UL (11).png    0.207864  0.639905\n",
       "3  UL (12).png    0.180320  0.710309\n",
       "4  UL (13).png    0.226379  0.617571"
      ]
     },
     "execution_count": 6,
     "metadata": {},
     "output_type": "execute_result"
    }
   ],
   "source": [
    "cedf = pd.read_csv(csvfname)\n",
    "cedf.head()"
   ]
  },
  {
   "cell_type": "code",
   "execution_count": 7,
   "id": "df52f03a-f4f9-417b-9993-d408a6a2b7e8",
   "metadata": {},
   "outputs": [],
   "source": [
    "x = cedf['entropy']\n",
    "y = cedf['complexity']\n",
    "\n",
    "reg_result = stats.linregress(x, y)\n",
    "xline = np.linspace(x.min(),x.max(),1000)\n",
    "# y = mx + c\n",
    "yline = reg_result.slope*xline + reg_result.intercept"
   ]
  },
  {
   "cell_type": "code",
   "execution_count": 24,
   "id": "4db874a7-3bf5-4656-84a1-07da7dc00070",
   "metadata": {},
   "outputs": [
    {
     "data": {
      "image/png": "[encoded data removed]",
      "text/plain": [
       "<Figure size 864x792 with 1 Axes>"
      ]
     },
     "metadata": {
      "needs_background": "light"
     },
     "output_type": "display_data"
    }
   ],
   "source": [
    "labels = cedf['filename']\n",
    "labels = [s1[s1.find(\"(\")+1:s1.find(\")\")] for s1 in labels] # only numbers, discard \"UL\" and \".png\"\n",
    "\n",
    "f = plt.figure(figsize=(12,11))\n",
    "ax = f.gca()\n",
    "ax.scatter(x, y)\n",
    "ax.plot(xline,yline,color='orange',linewidth=0.9)\n",
    "\n",
    "for i, txt in enumerate(labels):\n",
    "    ax.annotate(txt, (x[i], y[i]), xytext = (5,1), textcoords=\"offset points\") # https://stackoverflow.com/a/60786569\n",
    "\n",
    "ax.set_ylabel(\"Complexity\")\n",
    "ax.set_xlabel(\"Entropy\")\n",
    "\n",
    "plt.tight_layout()\n",
    "f.savefig(\"plot1.png\", facecolor=\"white\")"
   ]
  },
  {
   "cell_type": "code",
   "execution_count": 9,
   "id": "3c076974-ea62-4b06-9ec6-49598ee25ab4",
   "metadata": {},
   "outputs": [
    {
     "data": {
      "text/plain": [
       "LinregressResult(slope=-0.29502803081038037, intercept=0.40001780548161797, rvalue=-0.9339980332169298, pvalue=1.417474974886786e-18, stderr=0.018307623529107735, intercept_stderr=0.011922337178567149)"
      ]
     },
     "execution_count": 9,
     "metadata": {},
     "output_type": "execute_result"
    }
   ],
   "source": [
    "reg_result"
   ]
  },
  {
   "cell_type": "code",
   "execution_count": null,
   "id": "52259a25-b02c-45eb-a635-7e6481d90712",
   "metadata": {},
   "outputs": [],
   "source": []
  }
 ],
 "metadata": {
  "kernelspec": {
   "display_name": "Python 3",
   "language": "python",
   "name": "python3"
  },
  "language_info": {
   "codemirror_mode": {
    "name": "ipython",
    "version": 3
   },
   "file_extension": ".py",
   "mimetype": "text/x-python",
   "name": "python",
   "nbconvert_exporter": "python",
   "pygments_lexer": "ipython3",
   "version": "3.8.10"
  }
 },
 "nbformat": 4,
 "nbformat_minor": 5
}
